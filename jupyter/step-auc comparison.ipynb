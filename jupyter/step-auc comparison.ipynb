{
 "cells": [
  {
   "cell_type": "code",
   "execution_count": 1,
   "metadata": {
    "collapsed": true,
    "deletable": true,
    "editable": true
   },
   "outputs": [],
   "source": [
    "import pandas as pd\n",
    "import numpy as np\n",
    "import matplotlib.pyplot as plt\n",
    "import os\n",
    "%matplotlib inline"
   ]
  },
  {
   "cell_type": "markdown",
   "metadata": {
    "deletable": true,
    "editable": true
   },
   "source": [
    "### ALL"
   ]
  },
  {
   "cell_type": "code",
   "execution_count": null,
   "metadata": {
    "collapsed": false,
    "deletable": true,
    "editable": true
   },
   "outputs": [],
   "source": [
    "#new model\n",
    "#new_model='train_all_step_01.log' #this is 500\n",
    "new_model='train_all_step_1500.log'\n",
    "infile = r\"/scratch/sb3923/deep-cancer/logs/\"+new_model\n",
    "step_size = 1500\n",
    "#step_size = 500\n",
    "\n",
    "auc_new = []\n",
    "keep_phrases = [\"macro AUC\"]\n",
    "\n",
    "with open(infile) as f:\n",
    "    f = f.readlines()\n",
    "\n",
    "for line in f:\n",
    "    for phrase in keep_phrases:\n",
    "        if phrase in line:\n",
    "            auc_new.append(line.split(\" \")[2][:-2])\n",
    "\n",
    "print(auc_new)"
   ]
  },
  {
   "cell_type": "code",
   "execution_count": null,
   "metadata": {
    "collapsed": false,
    "deletable": true,
    "editable": true
   },
   "outputs": [],
   "source": [
    "#inception\n",
    "keep_phrase = [\"macro\"]\n",
    "auc = {}\n",
    "va = 'validation_auc' #5000\n",
    "#va ='validation_auc_500'\n",
    "\n",
    "for path, subdirs, files in os.walk('/scratch/sb3923/inception_all/DeepPATH/DeepPATH_code/01_training/xClasses/'+va):\n",
    "    for sd in subdirs: \n",
    "        if 'test' in sd:\n",
    "            files = os.listdir('/scratch/sb3923/inception_all/DeepPATH/DeepPATH_code/01_training/xClasses/'+va+'/'+sd)\n",
    "            for f in files:\n",
    "                #print(f)\n",
    "                if 'out2_roc_data_AvPb_macro' in f:\n",
    "                    auc[int(sd.split(\"_\")[1][:-1])]=f.split(\"_\")[6]\n",
    "print(auc)    "
   ]
  },
  {
   "cell_type": "code",
   "execution_count": null,
   "metadata": {
    "collapsed": false,
    "deletable": true,
    "editable": true
   },
   "outputs": [],
   "source": [
    "#plot both\n",
    "a=list(auc.values())\n",
    "t1=list(auc.keys())\n",
    "t2 = list(range(step_size,(len(auc_new)+1)*step_size,step_size))\n",
    "b=auc_new\n",
    "plt.scatter(t1, a, c= 'b',label='inception') # plotting t, a separately \n",
    "plt.scatter(t2, b, c= 'r', label='new model') # plotting t, b separately \n",
    "plt.xlabel('number of steps', fontsize=18)\n",
    "plt.ylabel('macro auc', fontsize=16)\n",
    "plt.legend(loc='lower right')\n",
    "plt.title('All cancer types')\n",
    "plt.show()"
   ]
  },
  {
   "cell_type": "markdown",
   "metadata": {
    "deletable": true,
    "editable": true
   },
   "source": [
    "### LUSC"
   ]
  },
  {
   "cell_type": "code",
   "execution_count": 2,
   "metadata": {
    "collapsed": false,
    "deletable": true,
    "editable": true
   },
   "outputs": [
    {
     "ename": "FileNotFoundError",
     "evalue": "[Errno 2] No such file or directory: '/scratch/sb3923/deep-cancer/logs/train_lusc2.log'",
     "output_type": "error",
     "traceback": [
      "\u001b[0;31m---------------------------------------------------------------------------\u001b[0m",
      "\u001b[0;31mFileNotFoundError\u001b[0m                         Traceback (most recent call last)",
      "\u001b[0;32m<ipython-input-2-a1af8cdeec39>\u001b[0m in \u001b[0;36m<module>\u001b[0;34m()\u001b[0m\n\u001b[1;32m     12\u001b[0m \u001b[0mkeep_phrases\u001b[0m \u001b[0;34m=\u001b[0m \u001b[0;34m[\u001b[0m\u001b[0;34m\"macro AUC\"\u001b[0m\u001b[0;34m]\u001b[0m\u001b[0;34m\u001b[0m\u001b[0m\n\u001b[1;32m     13\u001b[0m \u001b[0;34m\u001b[0m\u001b[0m\n\u001b[0;32m---> 14\u001b[0;31m \u001b[0;32mwith\u001b[0m \u001b[0mopen\u001b[0m\u001b[0;34m(\u001b[0m\u001b[0minfile\u001b[0m\u001b[0;34m)\u001b[0m \u001b[0;32mas\u001b[0m \u001b[0mf\u001b[0m\u001b[0;34m:\u001b[0m\u001b[0;34m\u001b[0m\u001b[0m\n\u001b[0m\u001b[1;32m     15\u001b[0m     \u001b[0mf\u001b[0m \u001b[0;34m=\u001b[0m \u001b[0mf\u001b[0m\u001b[0;34m.\u001b[0m\u001b[0mreadlines\u001b[0m\u001b[0;34m(\u001b[0m\u001b[0;34m)\u001b[0m\u001b[0;34m\u001b[0m\u001b[0m\n\u001b[1;32m     16\u001b[0m \u001b[0;34m\u001b[0m\u001b[0m\n",
      "\u001b[0;31mFileNotFoundError\u001b[0m: [Errno 2] No such file or directory: '/scratch/sb3923/deep-cancer/logs/train_lusc2.log'"
     ]
    }
   ],
   "source": [
    "#new model\n",
    "new_model='train_lusc_02.log'\n",
    "\n",
    "#new_model='train_brca.log'\n",
    "\n",
    "infile = r\"/scratch/sb3923/deep-cancer/logs/\"+new_model\n",
    "step_size = 1000\n",
    "\n",
    "auc_new = []\n",
    "steps = []\n",
    "keep_phrases = [\"macro AUC\"]\n",
    "\n",
    "with open(infile) as f:\n",
    "    f = f.readlines()\n",
    "\n",
    "#for line in f:\n",
    "#    for phrase in keep_phrases:\n",
    "#        if phrase in line:\n",
    "#            auc_new.append(line.split(\" \")[2][:-2])\n",
    "            \n",
    "for i in range(1,len(f)):\n",
    "        if 'Training' in f[i]:\n",
    "            if int(f[i].split(\" \")[0].split(']')[1][1:-5])%1000 ==0:\n",
    "                auc_new.append(f[i+5].split(\" \")[2][:-2])\n",
    "                steps.append(i)\n",
    "\n",
    "print(auc_new)"
   ]
  },
  {
   "cell_type": "code",
   "execution_count": 4,
   "metadata": {
    "collapsed": false,
    "deletable": true,
    "editable": true
   },
   "outputs": [
    {
     "name": "stdout",
     "output_type": "stream",
     "text": [
      "{128000: '0.6779', 113000: '0.6613', 149000: '0.4047', 18000: '0.6156', 55000: '0.6588', 139000: '0.6830', 42000: '0.5995', 103000: '0.6753', 110000: '0.6745', 127000: '0.6734', 52000: '0.6446', 84000: '0.5353', 78000: '0.6661', 169000: '0.6690', 134000: '0.6806', 156000: '0.6713', 126000: '0.6728', 53000: '0.6584', 20000: '0.6220', 147000: '0.4069', 75000: '0.6418', 104000: '0.6610', 124000: '0.6633', 130000: '0.6697', 61000: '0.4446', 17000: '0.6237', 178000: '0.6825', 82000: '0.5987', 99000: '0.6337', 43000: '0.5692', 167000: '0.6678', 98000: '0.6351', 60000: '0.5311', 170000: '0.6680', 69000: '0.3771', 81000: '0.6576', 166000: '0.6605', 145000: '0.4527', 150000: '0.4373', 59000: '0.5735', 37000: '0.5262', 144000: '0.5367', 88000: '0.5102', 63000: '0.4530', 165000: '0.6484', 34000: '0.5129', 118000: '0.6493', 122000: '0.6419', 159000: '0.6498', 5000: '0.7014', 173000: '0.6771', 79000: '0.6747', 31000: '0.5023', 100000: '0.6415', 102000: '0.6629', 2000: '0.6744', 146000: '0.4209', 121000: '0.6453', 57000: '0.6838', 141000: '0.6703', 14000: '0.6206', 77000: '0.6703', 112000: '0.6667', 83000: '0.5605', 163000: '0.6508', 70000: '0.4206', 54000: '0.6582', 138000: '0.6868', 120000: '0.6498', 180000: '0.6844', 25000: '0.5103', 13000: '0.6231', 80000: '0.6923', 164000: '0.6498', 168000: '0.6771', 51000: '0.6244', 162000: '0.6536', 91000: '0.5158', 106000: '0.6582', 183000: '0.6982', 161000: '0.6505', 12000: '0.6297', 66000: '0.4243', 132000: '0.6719', 19000: '0.6152', 97000: '0.6216', 74000: '0.6460', 158000: '0.6606', 182000: '0.6916', 9000: '0.6396', 40000: '0.5241', 45000: '0.6387', 129000: '0.6730', 11000: '0.6432', 16000: '0.6246', 184000: '0.6953', 96000: '0.6151', 48000: '0.5963', 181000: '0.6901', 10000: '0.6481', 151000: '0.4767', 125000: '0.6694', 152000: '0.5233', 95000: '0.5674', 123000: '0.6499', 116000: '0.6389', 62000: '0.5239', 65000: '0.4662', 73000: '0.6475', 36000: '0.5101', 28000: '0.4420', 94000: '0.5328', 101000: '0.6553', 175000: '0.6951', 72000: '0.6616', 115000: '0.6484', 117000: '0.6415', 136000: '0.6768', 140000: '0.6743', 172000: '0.6785', 71000: '0.6453', 29000: '0.4479', 143000: '0.6076', 30000: '0.4956', 114000: '0.6587', 179000: '0.6855', 85000: '0.5193', 135000: '0.6784', 56000: '0.6650', 92000: '0.4399', 154000: '0.6388', 49000: '0.6051', 137000: '0.6790', 6000: '0.6861', 33000: '0.5252', 27000: '0.4200', 176000: '0.6917', 8000: '0.6329', 21000: '0.5945', 105000: '0.6574', 133000: '0.6819', 76000: '0.6494', 160000: '0.6503', 26000: '0.4539', 47000: '0.6023', 111000: '0.6710', 155000: '0.6643', 39000: '0.5169', 68000: '0.3780', 22000: '0.5609', 44000: '0.5939', 153000: '0.6029', 15000: '0.6272', 46000: '0.6625', 157000: '0.6746', 41000: '0.5461', 131000: '0.6637', 24000: '0.5293', 4000: '0.6560', 177000: '0.6835', 67000: '0.3689', 109000: '0.6673', 38000: '0.5114', 93000: '0.4980', 107000: '0.6639', 64000: '0.3860', 148000: '0.3998', 23000: '0.5789', 35000: '0.5082', 119000: '0.6602', 108000: '0.6678', 50000: '0.6188', 90000: '0.5161', 174000: '0.6937', 1000: '0.5068', 32000: '0.5248', 86000: '0.5132', 89000: '0.5218', 3000: '0.6523', 87000: '0.5079', 7000: '0.6716', 171000: '0.6705', 58000: '0.6382', 142000: '0.6684'}\n"
     ]
    }
   ],
   "source": [
    "#inception\n",
    "keep_phrase = [\"macro\"]\n",
    "auc = {}\n",
    "#va = 'validation_auc_1000_lusc'\n",
    "va = 'validation_auc_lusc2'\n",
    "\n",
    "#validation_auc_1000_lusc\n",
    "for path, subdirs, files in os.walk('/scratch/sb3923/inception_all/DeepPATH/DeepPATH_code/01_training/xClasses/'+va):\n",
    "    for sd in subdirs: \n",
    "        if 'test' in sd:\n",
    "            files = os.listdir('/scratch/sb3923/inception_all/DeepPATH/DeepPATH_code/01_training/xClasses/'+va+'/'+sd)\n",
    "            for f in files:\n",
    "                if 'out2_roc_data_AvPb_macro' in f:\n",
    "                    #print(sd)\n",
    "                    #print(f)\n",
    "                    auc[int(sd.split(\"_\")[1][:-1])]=f.split(\"_\")[6]\n",
    "print(auc)    "
   ]
  },
  {
   "cell_type": "code",
   "execution_count": 6,
   "metadata": {
    "collapsed": false,
    "deletable": true,
    "editable": true
   },
   "outputs": [
    {
     "data": {
      "image/png": "[encoded data removed]",
      "text/plain": [
       "<matplotlib.figure.Figure at 0x2ad2617abda0>"
      ]
     },
     "metadata": {},
     "output_type": "display_data"
    }
   ],
   "source": [
    "#plot both\n",
    "a=list(auc.values())\n",
    "t1=list(auc.keys())\n",
    "#t2 = list(range(step_size,(len(auc_new)+1)*step_size,step_size))\n",
    "t2=steps\n",
    "b=auc_new\n",
    "plt.scatter(t1, a, c= 'b',label='inception') # plotting t, a separately \n",
    "plt.scatter(t2, b, c= 'r', label='new model') # plotting t, b separately \n",
    "plt.xlabel('number of steps', fontsize=18)\n",
    "plt.ylabel('macro auc', fontsize=16)\n",
    "#plt.xlim([0,75000])\n",
    "plt.legend(loc='lower right')\n",
    "plt.title('LUSC validation auc')\n",
    "plt.show()"
   ]
  },
  {
   "cell_type": "code",
   "execution_count": null,
   "metadata": {
    "collapsed": true,
    "deletable": true,
    "editable": true
   },
   "outputs": [],
   "source": []
  }
 ],
 "metadata": {
  "kernelspec": {
   "display_name": "Python 3",
   "language": "python",
   "name": "python3"
  },
  "language_info": {
   "codemirror_mode": {
    "name": "ipython",
    "version": 3
   },
   "file_extension": ".py",
   "mimetype": "text/x-python",
   "name": "python",
   "nbconvert_exporter": "python",
   "pygments_lexer": "ipython3",
   "version": "3.5.3"
  }
 },
 "nbformat": 4,
 "nbformat_minor": 2
}
