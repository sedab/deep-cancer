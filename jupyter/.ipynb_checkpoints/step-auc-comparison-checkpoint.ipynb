{
 "cells": [
  {
   "cell_type": "code",
   "execution_count": 21,
   "metadata": {
    "collapsed": true,
    "deletable": true,
    "editable": true
   },
   "outputs": [],
   "source": [
    "import pandas as pd\n",
    "import numpy as np\n",
    "import matplotlib.pyplot as plt\n",
    "import os\n",
    "%matplotlib inline"
   ]
  },
  {
   "cell_type": "markdown",
   "metadata": {
    "deletable": true,
    "editable": true
   },
   "source": [
    "### ALL"
   ]
  },
  {
   "cell_type": "code",
   "execution_count": null,
   "metadata": {
    "collapsed": false,
    "deletable": true,
    "editable": true
   },
   "outputs": [],
   "source": [
    "#new model\n",
    "#new_model='train_all_step_01.log' #this is 500\n",
    "new_model='train_all_step_1500.log'\n",
    "infile = r\"/scratch/sb3923/deep-cancer/logs/\"+new_model\n",
    "step_size = 1500\n",
    "#step_size = 500\n",
    "\n",
    "auc_new = []\n",
    "keep_phrases = [\"macro AUC\"]\n",
    "\n",
    "with open(infile) as f:\n",
    "    f = f.readlines()\n",
    "\n",
    "for line in f:\n",
    "    for phrase in keep_phrases:\n",
    "        if phrase in line:\n",
    "            auc_new.append(line.split(\" \")[2][:-2])\n",
    "\n",
    "print(auc_new)"
   ]
  },
  {
   "cell_type": "code",
   "execution_count": null,
   "metadata": {
    "collapsed": false,
    "deletable": true,
    "editable": true
   },
   "outputs": [],
   "source": [
    "#inception\n",
    "keep_phrase = [\"macro\"]\n",
    "auc = {}\n",
    "va = 'validation_auc' #5000\n",
    "#va ='validation_auc_500'\n",
    "\n",
    "for path, subdirs, files in os.walk('/scratch/sb3923/inception_all/DeepPATH/DeepPATH_code/01_training/xClasses/'+va):\n",
    "    for sd in subdirs: \n",
    "        if 'test' in sd:\n",
    "            files = os.listdir('/scratch/sb3923/inception_all/DeepPATH/DeepPATH_code/01_training/xClasses/'+va+'/'+sd)\n",
    "            for f in files:\n",
    "                #print(f)\n",
    "                if 'out2_roc_data_AvPb_macro' in f:\n",
    "                    auc[int(sd.split(\"_\")[1][:-1])]=f.split(\"_\")[6]\n",
    "print(auc)    "
   ]
  },
  {
   "cell_type": "code",
   "execution_count": null,
   "metadata": {
    "collapsed": false,
    "deletable": true,
    "editable": true
   },
   "outputs": [],
   "source": [
    "#plot both\n",
    "a=list(auc.values())\n",
    "t1=list(auc.keys())\n",
    "t2 = list(range(step_size,(len(auc_new)+1)*step_size,step_size))\n",
    "b=auc_new\n",
    "plt.scatter(t1, a, c= 'b',label='inception') # plotting t, a separately \n",
    "plt.scatter(t2, b, c= 'r', label='new model') # plotting t, b separately \n",
    "plt.xlabel('number of steps', fontsize=18)\n",
    "plt.ylabel('macro auc', fontsize=16)\n",
    "plt.legend(loc='lower right')\n",
    "plt.title('All cancer types')\n",
    "plt.show()"
   ]
  },
  {
   "cell_type": "markdown",
   "metadata": {
    "deletable": true,
    "editable": true
   },
   "source": [
    "### LUSC"
   ]
  },
  {
   "cell_type": "code",
   "execution_count": 94,
   "metadata": {
    "collapsed": false,
    "deletable": true,
    "editable": true
   },
   "outputs": [
    {
     "name": "stdout",
     "output_type": "stream",
     "text": [
      "['0.657', '0.662', '0.700', '0.702', '0.737', '0.723', '0.806', '0.756', '0.730', '0.738', '0.747', '0.763', '0.754', '0.783', '0.754', '0.785', '0.776', '0.783', '0.761', '0.752', '0.790', '0.773', '0.861', '0.750', '0.804', '0.792', '0.818', '0.782', '0.759', '0.828', '0.782', '0.806', '0.814', '0.804', '0.856', '0.811', '0.851', '0.859', '0.863', '0.795', '0.846', '0.859', '0.782', '0.780', '0.811', '0.804', '0.844', '0.816', '0.872', '0.866', '0.858', '0.875']\n"
     ]
    }
   ],
   "source": [
    "#new model\n",
    "new_model='train_kirp.log'\n",
    "infile = r\"/scratch/sb3923/deep-cancer/logs/\"+new_model\n",
    "step_size = 1000\n",
    "\n",
    "auc_new = []\n",
    "steps = []\n",
    "keep_phrases = [\"macro AUC\"]\n",
    "\n",
    "with open(infile) as f:\n",
    "    f = f.readlines()\n",
    "\n",
    "#for line in f:\n",
    "#    for phrase in keep_phrases:\n",
    "#        if phrase in line:\n",
    "#            auc_new.append(line.split(\" \")[2][:-2])\n",
    "            \n",
    "for i in range(1,len(f)):\n",
    "        if 'Training' in f[i]:\n",
    "            if int(f[i].split(\" \")[0].split(']')[1][1:-5])%1000 ==0:\n",
    "                auc_new.append(f[i+5].split(\" \")[2][:-2])\n",
    "                steps.append(i)\n",
    "\n",
    "print(auc_new)"
   ]
  },
  {
   "cell_type": "code",
   "execution_count": 95,
   "metadata": {
    "collapsed": false,
    "deletable": true,
    "editable": true
   },
   "outputs": [
    {
     "name": "stdout",
     "output_type": "stream",
     "text": [
      "{0: '0.5000', 48000: '0.9165', 56000: '0.9310', 27000: '0.7530', 21000: '0.7539', 13000: '0.8114', 42000: '0.8153', 23000: '0.7705', 26000: '0.7543', 95000: '0.9232', 29000: '0.7491', 52000: '0.9237', 84000: '0.9213', 14000: '0.8095', 64000: '0.9247', 65000: '0.9288', 20000: '0.7677', 105000: '0.9288', 36000: '0.7587', 28000: '0.7502', 94000: '0.9256', 5000: '0.7872', 62000: '0.9228', 51000: '0.9273', 33000: '0.7357', 8000: '0.7807', 76000: '0.9187', 4000: '0.7790', 71000: '0.9183', 93000: '0.9256', 17000: '0.8121', 101000: '0.9237', 91000: '0.9213', 30000: '0.7448', 18000: '0.8034', 19000: '0.7757', 1000: '0.8127', 85000: '0.9213', 7000: '0.7723', 82000: '0.9226', 98000: '0.9107', 92000: '0.9247', 10000: '0.7736', 69000: '0.9250', 49000: '0.9241', 6000: '0.7781', 11000: '0.7772', 53000: '0.9206', 102000: '0.9254', 81000: '0.9167', 24000: '0.7718', 108000: '0.9306', 50000: '0.9237', 59000: '0.9301', 79000: '0.9122', 46000: '0.8940', 104000: '0.9288', 80000: '0.9157', 72000: '0.9137', 66000: '0.9288', 63000: '0.9245', 37000: '0.7645', 58000: '0.9245', 15000: '0.8177', 39000: '0.7671', 89000: '0.9150', 47000: '0.9051', 60000: '0.9280', 31000: '0.7444', 73000: '0.9154', 100000: '0.9202', 70000: '0.9250', 44000: '0.8633', 25000: '0.7612', 99000: '0.9211', 78000: '0.9196', 61000: '0.9273', 45000: '0.8834', 83000: '0.9226', 67000: '0.9288', 41000: '0.7997', 54000: '0.9295', 96000: '0.9150', 88000: '0.9172', 68000: '0.9232', 32000: '0.7511', 77000: '0.9170', 38000: '0.7705', 9000: '0.7511', 2000: '0.8309', 75000: '0.9180', 43000: '0.8441', 22000: '0.7591', 106000: '0.9288', 55000: '0.9356', 35000: '0.7396', 12000: '0.8019', 34000: '0.7411', 90000: '0.9167', 97000: '0.9141', 103000: '0.9327', 74000: '0.9196', 86000: '0.9170', 57000: '0.9293', 40000: '0.7775', 3000: '0.7772', 87000: '0.9133', 107000: '0.9321', 16000: '0.8276'}\n"
     ]
    }
   ],
   "source": [
    "#inception\n",
    "keep_phrase = [\"macro\"]\n",
    "auc = {}\n",
    "va = 'validation_auc_kirp'\n",
    "\n",
    "for path, subdirs, files in os.walk('/scratch/sb3923/inception_all/DeepPATH/DeepPATH_code/01_training/xClasses/'+va):\n",
    "    for sd in subdirs: \n",
    "        if 'test' in sd:\n",
    "            files = os.listdir('/scratch/sb3923/inception_all/DeepPATH/DeepPATH_code/01_training/xClasses/'+va+'/'+sd)\n",
    "            for f in files:\n",
    "                if 'out2_roc_data_AvPb_macro' in f:\n",
    "                    #print(sd)\n",
    "                    #print(f)\n",
    "                    auc[int(sd.split(\"_\")[1][:-1])]=f.split(\"_\")[6]\n",
    "print(auc)    "
   ]
  },
  {
   "cell_type": "code",
   "execution_count": 96,
   "metadata": {
    "collapsed": false,
    "deletable": true,
    "editable": true
   },
   "outputs": [
    {
     "data": {
      "image/png": "[encoded data removed]",
      "text/plain": [
       "<matplotlib.figure.Figure at 0x2b28347814e0>"
      ]
     },
     "metadata": {},
     "output_type": "display_data"
    }
   ],
   "source": [
    "#plot both\n",
    "a=list(auc.values())\n",
    "t1=list(auc.keys())\n",
    "#t2 = list(range(step_size,(len(auc_new)+1)*step_size,step_size))\n",
    "t2=steps\n",
    "b=auc_new\n",
    "plt.scatter(t1, a, c= 'b',label='inception') # plotting t, a separately \n",
    "plt.scatter(t2, b, c= 'r', label='new model') # plotting t, b separately \n",
    "plt.xlabel('number of steps', fontsize=18)\n",
    "plt.ylabel('macro auc', fontsize=16)\n",
    "plt.legend(loc='lower right')\n",
    "plt.title('LUSC validation auc')\n",
    "plt.show()"
   ]
  },
  {
   "cell_type": "code",
   "execution_count": null,
   "metadata": {
    "collapsed": true,
    "deletable": true,
    "editable": true
   },
   "outputs": [],
   "source": []
  }
 ],
 "metadata": {
  "kernelspec": {
   "display_name": "Python 3",
   "language": "python",
   "name": "python3"
  },
  "language_info": {
   "codemirror_mode": {
    "name": "ipython",
    "version": 3
   },
   "file_extension": ".py",
   "mimetype": "text/x-python",
   "name": "python",
   "nbconvert_exporter": "python",
   "pygments_lexer": "ipython3",
   "version": "3.5.3"
  }
 },
 "nbformat": 4,
 "nbformat_minor": 2
}
