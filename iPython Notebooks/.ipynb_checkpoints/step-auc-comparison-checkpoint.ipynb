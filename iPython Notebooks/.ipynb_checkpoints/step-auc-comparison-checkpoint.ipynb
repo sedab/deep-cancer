{
 "cells": [
  {
   "cell_type": "code",
   "execution_count": 1,
   "metadata": {
    "collapsed": true,
    "deletable": true,
    "editable": true
   },
   "outputs": [],
   "source": [
    "import pandas as pd\n",
    "import numpy as np\n",
    "import matplotlib.pyplot as plt\n",
    "import os\n",
    "%matplotlib inline"
   ]
  },
  {
   "cell_type": "markdown",
   "metadata": {
    "deletable": true,
    "editable": true
   },
   "source": [
    "### auc comparisons of training for inception and the new model"
   ]
  },
  {
   "cell_type": "code",
   "execution_count": 5,
   "metadata": {
    "collapsed": false,
    "deletable": true,
    "editable": true
   },
   "outputs": [
    {
     "name": "stdout",
     "output_type": "stream",
     "text": [
      "['0.521', '0.739', '0.781', '0.820', '0.821', '0.834', '0.793', '0.832', '0.852', '0.854', '0.809', '0.854', '0.863', '0.876', '0.876', '0.891', '0.889', '0.895', '0.898', '0.901', '0.907', '0.900', '0.910', '0.915', '0.912', '0.909', '0.914', '0.924', '0.920', '0.920', '0.923', '0.914', '0.937', '0.915', '0.925', '0.926', '0.934', '0.926', '0.935', '0.921', '0.926', '0.938', '0.922', '0.930', '0.941', '0.931', '0.916', '0.931', '0.934', '0.940', '0.939', '0.948', '0.934', '0.941', '0.951', '0.943', '0.944', '0.933', '0.949', '0.946', '0.944', '0.938', '0.946', '0.951', '0.942', '0.949', '0.948', '0.940', '0.950', '0.952', '0.949', '0.948', '0.945', '0.952', '0.957', '0.951', '0.946', '0.950', '0.951', '0.941', '0.961', '0.956', '0.954', '0.929', '0.952', '0.949', '0.950', '0.954', '0.961', '0.956', '0.960', '0.946', '0.947', '0.961', '0.962', '0.950', '0.955', '0.958', '0.958', '0.962', '0.951', '0.958', '0.949', '0.960', '0.958', '0.962', '0.965', '0.959', '0.962', '0.959', '0.966', '0.965', '0.960', '0.964', '0.958', '0.969', '0.960', '0.960', '0.963', '0.965', '0.958', '0.967', '0.964', '0.963', '0.959', '0.966', '0.970', '0.967', '0.958', '0.967', '0.959', '0.953', '0.965', '0.966', '0.960', '0.960', '0.966', '0.965', '0.969', '0.961', '0.959', '0.965', '0.963', '0.963', '0.962', '0.965', '0.960', '0.960', '0.967', '0.965', '0.963', '0.964', '0.961', '0.965', '0.963', '0.970', '0.969', '0.966', '0.967', '0.971', '0.965', '0.959', '0.965', '0.963', '0.963', '0.969', '0.961', '0.967', '0.968', '0.969', '0.966', '0.967', '0.972', '0.968', '0.970', '0.959', '0.967', '0.971', '0.966', '0.967', '0.970', '0.973', '0.973', '0.971', '0.966', '0.969', '0.968', '0.965', '0.962', '0.971', '0.967', '0.965', '0.973', '0.974', '0.971', '0.964', '0.973', '0.971', '0.975', '0.968', '0.962', '0.971', '0.969', '0.967', '0.973', '0.961', '0.967', '0.967', '0.975', '0.970', '0.972', '0.962', '0.970', '0.966', '0.970', '0.972', '0.975', '0.969', '0.973', '0.976', '0.972', '0.970', '0.972', '0.971', '0.968', '0.968', '0.978', '0.971', '0.966', '0.966', '0.970', '0.971', '0.970', '0.975', '0.969', '0.972', '0.973', '0.973', '0.964', '0.970', '0.960', '0.976', '0.964', '0.973', '0.970', '0.970', '0.973', '0.973', '0.969', '0.967', '0.971', '0.975', '0.973', '0.970', '0.969', '0.970', '0.975', '0.975', '0.976', '0.977', '0.976', '0.970', '0.973', '0.970', '0.966', '0.977', '0.975', '0.971', '0.973', '0.974', '0.969', '0.968', '0.973', '0.974', '0.975', '0.974', '0.972', '0.972', '0.971', '0.971', '0.975', '0.973', '0.974', '0.972', '0.974', '0.964', '0.979', '0.977', '0.974', '0.970', '0.974', '0.973', '0.975', '0.973', '0.971', '0.971', '0.972', '0.972', '0.977', '0.975', '0.972', '0.970', '0.975', '0.973', '0.973', '0.977', '0.975', '0.976', '0.972', '0.969', '0.972', '0.968', '0.975', '0.971', '0.972', '0.978', '0.975', '0.977', '0.973', '0.973', '0.974', '0.977', '0.973', '0.976', '0.970', '0.974', '0.975', '0.974', '0.973', '0.970', '0.970', '0.977', '0.977', '0.974', '0.976', '0.975', '0.977', '0.972', '0.976', '0.973', '0.977', '0.974', '0.975', '0.970', '0.975', '0.965', '0.970', '0.978', '0.972', '0.978', '0.972', '0.972', '0.973', '0.971', '0.968', '0.975', '0.970', '0.977', '0.974', '0.969', '0.971', '0.974', '0.969', '0.973', '0.971', '0.964', '0.970', '0.974', '0.980', '0.974', '0.976', '0.972', '0.972', '0.978', '0.972', '0.974', '0.975', '0.970', '0.977', '0.970', '0.974', '0.976', '0.978', '0.973', '0.976', '0.975', '0.973', '0.977', '0.971', '0.972', '0.971', '0.972', '0.974', '0.971', '0.972', '0.974', '0.976', '0.972', '0.973', '0.973', '0.972', '0.977', '0.975', '0.976', '0.972', '0.970', '0.972', '0.974', '0.976', '0.976', '0.975', '0.967', '0.976', '0.973', '0.969', '0.973', '0.973', '0.972', '0.977', '0.975', '0.977', '0.976', '0.978', '0.974', '0.976', '0.974', '0.977', '0.971', '0.977', '0.972', '0.969', '0.973', '0.971', '0.972', '0.972', '0.977', '0.977', '0.974', '0.973', '0.975', '0.977', '0.975', '0.977', '0.971', '0.971', '0.973', '0.973', '0.979', '0.972', '0.972', '0.973', '0.971', '0.967', '0.975', '0.977', '0.976', '0.973', '0.974', '0.970', '0.975', '0.972', '0.975', '0.974', '0.971', '0.973', '0.973', '0.976', '0.972', '0.976', '0.979', '0.972', '0.973', '0.978', '0.976', '0.973', '0.974', '0.975', '0.974', '0.976', '0.977', '0.971', '0.976', '0.976', '0.971', '0.974', '0.973', '0.975', '0.976', '0.974', '0.971', '0.974', '0.976', '0.970', '0.977', '0.976', '0.980', '0.973', '0.977', '0.976', '0.973', '0.970', '0.976', '0.970', '0.975']\n"
     ]
    }
   ],
   "source": [
    "#new model\n",
    "new_model='lung_w_auc_no_CI.log'\n",
    "infile = r\"/scratch/sb3923/deep-cancer/logs/\"+new_model\n",
    "step_size = 500\n",
    "\n",
    "auc_new = []\n",
    "keep_phrases = [\"macro AUC\"]\n",
    "\n",
    "with open(infile) as f:\n",
    "    f = f.readlines()\n",
    "\n",
    "for line in f:\n",
    "    for phrase in keep_phrases:\n",
    "        if phrase in line:\n",
    "            auc_new.append(line.split(\" \")[2][:-2])\n",
    "\n",
    "print(auc_new)"
   ]
  },
  {
   "cell_type": "code",
   "execution_count": 31,
   "metadata": {
    "collapsed": false,
    "deletable": true,
    "editable": true
   },
   "outputs": [
    {
     "name": "stdout",
     "output_type": "stream",
     "text": [
      "{128000: '0.9672', 192000: '0.9784', 106500: '0.9600', 85000: '0.9339', 35500: '0.8810', 63500: '0.9330', 197500: '0.9787', 42000: '0.8971', 135000: '0.9719', 20500: '0.8420', 127000: '0.9679', 170500: '0.9764', 105500: '0.9597', 84000: '0.9358', 142000: '0.9742', 62500: '0.9332', 169000: '0.9763', 177500: '0.9762', 19500: '0.8365', 126000: '0.9679', 149000: '0.9760', 104500: '0.9594', 83000: '0.9364', 184500: '0.9759', 61500: '0.9321', 168000: '0.9761', 28000: '0.8329', 18500: '0.8149', 214000: '0.9767', 125000: '0.9673', 191500: '0.9783', 200000: '0.9781', 103500: '0.9596', 212500: '0.9771', 82000: '0.9358', 163000: '0.9737', 60500: '0.9330', 211000: '0.9768', 39000: '0.8849', 134500: '0.9723', 17500: '0.7826', 124000: '0.9654', 170000: '0.9763', 102500: '0.9589', 81000: '0.9342', 141500: '0.9744', 208000: '0.9756', 59500: '0.9339', 38000: '0.8933', 177000: '0.9766', 206500: '0.9760', 16500: '0.7482', 123000: '0.9653', 148500: '0.9758', 101500: '0.9600', 80000: '0.9346', 184000: '0.9759', 58500: '0.9376', 203500: '0.9767', 165000: '0.9748', 27500: '0.8234', 15500: '0.7650', 202000: '0.9763', 122000: '0.9647', 191000: '0.9781', 100500: '0.9592', 200500: '0.9776', 79000: '0.9365', 34500: '0.8626', 57500: '0.9409', 36000: '0.8878', 6000: '0.7695', 142500: '0.9743', 121000: '0.9642', 169500: '0.9763', 99500: '0.9580', 78000: '0.9350', 141000: '0.9741', 196000: '0.9787', 56500: '0.9407', 215000: '0.9765', 35000: '0.8721', 176500: '0.9764', 13500: '0.7812', 120000: '0.9633', 148000: '0.9757', 98500: '0.9560', 193000: '0.9785', 77000: '0.9356', 183500: '0.9760', 55500: '0.9372', 34000: '0.8601', 155000: '0.9746', 140500: '0.9742', 119000: '0.9638', 190500: '0.9785', 97500: '0.9538', 76000: '0.9375', 162000: '0.9717', 54500: '0.9382', 161000: '0.9712', 133500: '0.9707', 139500: '0.9729', 118000: '0.9638', 96500: '0.9527', 75000: '0.9376', 12500: '0.7903', 53500: '0.9379', 160000: '0.9713', 176000: '0.9763', 10500: '0.7803', 117000: '0.9639', 147500: '0.9759', 95500: '0.9512', 74000: '0.9336', 183000: '0.9762', 52500: '0.9326', 159000: '0.9719', 26500: '0.8269', 137500: '0.9719', 116000: '0.9643', 190000: '0.9784', 94500: '0.9514', 73000: '0.9331', 33500: '0.8650', 199500: '0.9779', 51500: '0.9315', 158000: '0.9718', 133000: '0.9699', 136500: '0.9716', 115000: '0.9631', 168500: '0.9762', 93500: '0.9513', 210500: '0.9769', 72000: '0.9348', 140000: '0.9737', 193500: '0.9786', 50500: '0.9293', 157000: '0.9733', 175500: '0.9758', 7500: '0.7769', 114000: '0.9623', 147000: '0.9763', 92500: '0.9501', 198000: '0.9790', 71000: '0.9316', 182500: '0.9766', 49500: '0.9225', 156000: '0.9737', 154000: '0.9745', 6500: '0.7802', 113000: '0.9615', 189500: '0.9780', 209000: '0.9762', 91500: '0.9472', 70000: '0.9278', 33000: '0.8672', 48500: '0.9159', 27000: '0.8180', 4500: '0.7805', 5500: '0.7607', 112000: '0.9606', 40000: '0.8920', 90500: '0.9424', 69000: '0.9263', 11500: '0.7876', 47500: '0.9145', 26000: '0.8302', 132500: '0.9691', 111000: '0.9588', 146500: '0.9765', 89500: '0.9406', 213500: '0.9766', 68000: '0.9287', 182000: '0.9764', 204500: '0.9759', 46500: '0.9134', 212000: '0.9767', 153000: '0.9737', 25500: '0.8317', 3500: '0.7289', 110000: '0.9587', 189000: '0.9782', 88500: '0.9382', 67000: '0.9309', 32500: '0.8632', 45500: '0.9162', 24000: '0.8420', 4000: '0.7505', 207500: '0.9757', 130500: '0.9689', 109000: '0.9565', 167500: '0.9761', 206000: '0.9759', 87500: '0.9348', 66000: '0.9275', 11000: '0.7866', 44500: '0.9095', 151000: '0.9740', 174500: '0.9746', 129500: '0.9679', 203000: '0.9762', 108000: '0.9571', 146000: '0.9766', 86500: '0.9350', 201500: '0.9767', 65000: '0.9304', 181500: '0.9765', 43500: '0.9070', 150000: '0.9748', 25000: '0.8355', 128500: '0.9668', 107000: '0.9594', 188500: '0.9784', 85500: '0.9339', 64000: '0.9324', 32000: '0.8630', 197000: '0.9790', 42500: '0.9002', 21000: '0.8436', 131500: '0.9704', 195500: '0.9785', 127500: '0.9675', 106000: '0.9598', 167000: '0.9760', 84500: '0.9344', 63000: '0.9342', 138500: '0.9717', 41500: '0.8918', 192500: '0.9786', 20000: '0.8448', 174000: '0.9745', 126500: '0.9679', 105000: '0.9594', 145500: '0.9763', 83500: '0.9357', 62000: '0.9319', 181000: '0.9764', 40500: '0.8903', 19000: '0.8160', 152500: '0.9738', 125500: '0.9677', 104000: '0.9594', 188000: '0.9783', 82500: '0.9364', 61000: '0.9333', 31500: '0.8582', 39500: '0.8924', 18000: '0.8028', 131000: '0.9696', 124500: '0.9667', 103000: '0.9592', 166500: '0.9759', 81500: '0.9352', 60000: '0.9323', 10000: '0.7770', 38500: '0.8873', 145000: '0.9760', 173500: '0.9743', 123500: '0.9655', 102000: '0.9593', 17000: '0.7678', 80500: '0.9345', 59000: '0.9354', 180500: '0.9761', 165500: '0.9752', 2500: '0.6158', 144000: '0.9750', 152000: '0.9739', 122500: '0.9652', 101000: '0.9597', 187500: '0.9783', 79500: '0.9356', 58000: '0.9393', 31000: '0.8491', 36500: '0.8929', 143000: '0.9747', 66500: '0.9292', 121500: '0.9644', 198500: '0.9782', 100000: '0.9590', 166000: '0.9751', 78500: '0.9350', 57000: '0.9415', 9500: '0.7792', 163500: '0.9736', 209500: '0.9769', 14000: '0.7723', 173000: '0.9737', 120500: '0.9643', 99000: '0.9569', 144500: '0.9755', 77500: '0.9358', 56000: '0.9397', 180000: '0.9759', 162500: '0.9727', 13000: '0.7871', 151500: '0.9740', 119500: '0.9636', 98000: '0.9552', 187000: '0.9782', 76500: '0.9383', 55000: '0.9363', 30500: '0.8400', 161500: '0.9719', 12000: '0.7909', 130000: '0.9686', 118500: '0.9641', 97000: '0.9539', 37500: '0.8968', 75500: '0.9376', 214500: '0.9765', 54000: '0.9388', 137000: '0.9718', 160500: '0.9712', 213000: '0.9772', 139000: '0.9724', 172500: '0.9741', 117500: '0.9636', 211500: '0.9770', 96000: '0.9524', 16000: '0.7568', 74500: '0.9365', 53000: '0.9357', 179500: '0.9758', 159500: '0.9716', 138000: '0.9719', 23000: '0.8278', 116500: '0.9639', 95000: '0.9510', 186500: '0.9773', 207000: '0.9758', 73500: '0.9328', 52000: '0.9314', 30000: '0.8412', 194000: '0.9783', 205500: '0.9758', 158500: '0.9717', 9000: '0.7841', 1500: '0.5582', 115500: '0.9639', 204000: '0.9762', 94000: '0.9509', 37000: '0.8971', 72500: '0.9347', 205000: '0.9756', 202500: '0.9760', 51000: '0.9300', 8500: '0.7911', 157500: '0.9728', 201000: '0.9770', 136000: '0.9714', 172000: '0.9749', 114500: '0.9629', 93000: '0.9518', 143500: '0.9747', 71500: '0.9345', 50000: '0.9262', 179000: '0.9761', 156500: '0.9736', 7000: '0.7452', 150500: '0.9741', 196500: '0.9792', 113500: '0.9619', 208500: '0.9762', 92000: '0.9490', 186000: '0.9765', 195000: '0.9782', 70500: '0.9304', 49000: '0.9184', 29500: '0.8434', 155500: '0.9742', 134000: '0.9720', 1000: '0.5751', 112500: '0.9609', 91000: '0.9448', 164500: '0.9748', 69500: '0.9269', 48000: '0.9155', 8000: '0.7875', 154500: '0.9748', 5000: '0.7749', 171500: '0.9753', 111500: '0.9601', 90000: '0.9415', 15000: '0.7706', 68500: '0.9274', 175000: '0.9754', 178500: '0.9761', 153500: '0.9739', 132000: '0.9697', 22000: '0.8410', 110500: '0.9586', 89000: '0.9395', 185500: '0.9760', 67500: '0.9306', 46000: '0.9158', 29000: '0.8405', 24500: '0.8344', 3000: '0.5595', 500: '0.6071', 109500: '0.9573', 88000: '0.9368', 164000: '0.9741', 194500: '0.9780', 45000: '0.9134', 135500: '0.9713', 23500: '0.8391', 2000: '0.6521', 43000: '0.9050', 108500: '0.9568', 87000: '0.9337', 14500: '0.7685', 65500: '0.9280', 44000: '0.9087', 178000: '0.9764', 199000: '0.9780', 22500: '0.8325', 129000: '0.9670', 21500: '0.8436', 107500: '0.9581', 86000: '0.9341', 185000: '0.9759', 64500: '0.9330', 210000: '0.9768', 171000: '0.9760', 28500: '0.8330', 149500: '0.9756'}\n"
     ]
    }
   ],
   "source": [
    "#inception\n",
    "keep_phrase = [\"macro\"]\n",
    "auc = {}\n",
    "va = 'validation_auc' #5000\n",
    "\n",
    "for path, subdirs, files in os.walk('/scratch/sb3923/DeepPATH/DeepPATH_code/01_training/xClasses/'+va):\n",
    "    for sd in subdirs: \n",
    "        if 'test' in sd:\n",
    "            files = os.listdir('/scratch/sb3923/DeepPATH/DeepPATH_code/01_training/xClasses/'+va+'/'+sd)\n",
    "            for f in files:\n",
    "                #print(f)\n",
    "                if 'out2_roc_data_AvPb_macro' in f:\n",
    "                    auc[int(sd.split(\"_\")[1][:-1])]=f.split(\"_\")[6]\n",
    "                    \n",
    "                    \n",
    "va = 'validation_auc_85000k' \n",
    "\n",
    "for path, subdirs, files in os.walk('/scratch/sb3923/DeepPATH/DeepPATH_code/01_training/xClasses/'+va):\n",
    "    for sd in subdirs: \n",
    "        if 'test' in sd:\n",
    "            files = os.listdir('/scratch/sb3923/DeepPATH/DeepPATH_code/01_training/xClasses/'+va+'/'+sd)\n",
    "            for f in files:\n",
    "                #print(f)\n",
    "                if 'out2_roc_data_AvPb_macro' in f:\n",
    "                    auc[int(sd.split(\"_\")[1][:-1])]=f.split(\"_\")[6]\n",
    "                    \n",
    "va = 'validation_auc_87000k' \n",
    "\n",
    "for path, subdirs, files in os.walk('/scratch/sb3923/DeepPATH/DeepPATH_code/01_training/xClasses/'+va):\n",
    "    for sd in subdirs: \n",
    "        if 'test' in sd:\n",
    "            files = os.listdir('/scratch/sb3923/DeepPATH/DeepPATH_code/01_training/xClasses/'+va+'/'+sd)\n",
    "            for f in files:\n",
    "                #print(f)\n",
    "                if 'out2_roc_data_AvPb_macro' in f:\n",
    "                    auc[int(sd.split(\"_\")[1][:-1])]=f.split(\"_\")[6]\n",
    "\n",
    "va = 'validation_auc_90000k' \n",
    "\n",
    "for path, subdirs, files in os.walk('/scratch/sb3923/DeepPATH/DeepPATH_code/01_training/xClasses/'+va):\n",
    "    for sd in subdirs: \n",
    "        if 'test' in sd:\n",
    "            files = os.listdir('/scratch/sb3923/DeepPATH/DeepPATH_code/01_training/xClasses/'+va+'/'+sd)\n",
    "            for f in files:\n",
    "                #print(f)\n",
    "                if 'out2_roc_data_AvPb_macro' in f:\n",
    "                    auc[int(sd.split(\"_\")[1][:-1])]=f.split(\"_\")[6]\n",
    "                    \n",
    "va = 'validation_auc_130000k' \n",
    "\n",
    "for path, subdirs, files in os.walk('/scratch/sb3923/DeepPATH/DeepPATH_code/01_training/xClasses/'+va):\n",
    "    for sd in subdirs: \n",
    "        if 'test' in sd:\n",
    "            files = os.listdir('/scratch/sb3923/DeepPATH/DeepPATH_code/01_training/xClasses/'+va+'/'+sd)\n",
    "            for f in files:\n",
    "                #print(f)\n",
    "                if 'out2_roc_data_AvPb_macro' in f:\n",
    "                    auc[int(sd.split(\"_\")[1][:-1])]=f.split(\"_\")[6]\n",
    "\n",
    "va = 'validation_auc_170000k' \n",
    "\n",
    "for path, subdirs, files in os.walk('/scratch/sb3923/DeepPATH/DeepPATH_code/01_training/xClasses/'+va):\n",
    "    for sd in subdirs: \n",
    "        if 'test' in sd:\n",
    "            files = os.listdir('/scratch/sb3923/DeepPATH/DeepPATH_code/01_training/xClasses/'+va+'/'+sd)\n",
    "            for f in files:\n",
    "                #print(f)\n",
    "                if 'out2_roc_data_AvPb_macro' in f:\n",
    "                    auc[int(sd.split(\"_\")[1][:-1])]=f.split(\"_\")[6]\n",
    "                    \n",
    "                    \n",
    "va = 'validation_auc_210000k' \n",
    "\n",
    "for path, subdirs, files in os.walk('/scratch/sb3923/DeepPATH/DeepPATH_code/01_training/xClasses/'+va):\n",
    "    for sd in subdirs: \n",
    "        if 'test' in sd:\n",
    "            files = os.listdir('/scratch/sb3923/DeepPATH/DeepPATH_code/01_training/xClasses/'+va+'/'+sd)\n",
    "            for f in files:\n",
    "                #print(f)\n",
    "                if 'out2_roc_data_AvPb_macro' in f:\n",
    "                    auc[int(sd.split(\"_\")[1][:-1])]=f.split(\"_\")[6]\n",
    "print(auc)    "
   ]
  },
  {
   "cell_type": "code",
   "execution_count": 33,
   "metadata": {
    "collapsed": false,
    "deletable": true,
    "editable": true
   },
   "outputs": [
    {
     "data": {
      "image/png": "[encoded data removed]",
      "text/plain": [
       "<matplotlib.figure.Figure at 0x2acc18a977b8>"
      ]
     },
     "metadata": {},
     "output_type": "display_data"
    }
   ],
   "source": [
    "#plot both\n",
    "a=list(auc.values())\n",
    "t1=list(auc.keys())\n",
    "t2 = list(range(step_size,(len(auc_new)+1)*step_size,step_size))\n",
    "b=auc_new\n",
    "plt.scatter(t1, a, c= 'b',label='inception', s=1) # plotting t, a separately \n",
    "plt.scatter(t2, b, c= 'r', label='new model',s=1) # plotting t, b separately \n",
    "plt.xlabel('number of steps', fontsize=18)\n",
    "plt.ylabel('macro auc', fontsize=16)\n",
    "plt.legend(loc='lower right')\n",
    "plt.title('lung')\n",
    "plt.xlim([-5000,200000])\n",
    "plt.show()"
   ]
  },
  {
   "cell_type": "code",
   "execution_count": 14,
   "metadata": {
    "collapsed": false
   },
   "outputs": [
    {
     "data": {
      "text/plain": [
       "0.3464523281596452"
      ]
     },
     "execution_count": 14,
     "metadata": {},
     "output_type": "execute_result"
    }
   ],
   "source": [
    "#14432 steps = 1 epoch\n",
    "#5000/14432"
   ]
  },
  {
   "cell_type": "code",
   "execution_count": 34,
   "metadata": {
    "collapsed": false
   },
   "outputs": [
    {
     "data": {
      "text/plain": [
       "8.661308203991132"
      ]
     },
     "execution_count": 34,
     "metadata": {},
     "output_type": "execute_result"
    }
   ],
   "source": [
    "#125000/14432"
   ]
  },
  {
   "cell_type": "code",
   "execution_count": 35,
   "metadata": {
    "collapsed": false
   },
   "outputs": [
    {
     "data": {
      "text/plain": [
       "173184"
      ]
     },
     "execution_count": 35,
     "metadata": {},
     "output_type": "execute_result"
    }
   ],
   "source": [
    "14432*12"
   ]
  },
  {
   "cell_type": "code",
   "execution_count": null,
   "metadata": {
    "collapsed": true
   },
   "outputs": [],
   "source": []
  }
 ],
 "metadata": {
  "kernelspec": {
   "display_name": "Python 3",
   "language": "python",
   "name": "python3"
  },
  "language_info": {
   "codemirror_mode": {
    "name": "ipython",
    "version": 3
   },
   "file_extension": ".py",
   "mimetype": "text/x-python",
   "name": "python",
   "nbconvert_exporter": "python",
   "pygments_lexer": "ipython3",
   "version": "3.5.3"
  }
 },
 "nbformat": 4,
 "nbformat_minor": 2
}
