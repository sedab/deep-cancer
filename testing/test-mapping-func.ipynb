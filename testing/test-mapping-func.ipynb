{
 "cells": [
  {
   "cell_type": "code",
   "execution_count": 33,
   "metadata": {
    "collapsed": true,
    "deletable": true,
    "editable": true
   },
   "outputs": [],
   "source": [
    "import torch\n",
    "import torch.nn as nn\n",
    "import torch.nn.functional as F\n",
    "import torch.nn.parallel\n",
    "import torch.backends.cudnn as cudnn\n",
    "import torch.utils.data\n",
    "import torchvision.datasets as dset\n",
    "import torchvision.transforms as transforms\n",
    "import torchvision.utils as vutils\n",
    "import torch.nn.init as init\n",
    "from torch.autograd import Variable\n",
    "import argparse\n",
    "import numpy as np\n",
    "from PIL import Image\n",
    "from utils.dataloader import *\n",
    "from utils.auc_test import *\n",
    "from utils import new_transforms"
   ]
  },
  {
   "cell_type": "code",
   "execution_count": 34,
   "metadata": {
    "collapsed": false,
    "deletable": true,
    "editable": true
   },
   "outputs": [],
   "source": [
    "#parser = argparse.ArgumentParser()\n",
    "#parser.add_argument('--data', type=str, default='Lung', help='Data to train on (Lung/Breast/Kidney)')\n",
    "#parser.add_argument('--file_path', type=str, default='/beegfs/jmw784/Capstone/', help='Root path where the tiles are')\n",
    "#opt = parser.parse_args()\n",
    "root_dir = '/beegfs/jmw784/Capstone/TestTilesSorted/'\n",
    "#out_file = opt.file_path + opt.data + \"_FileMappingDict.p\""
   ]
  },
  {
   "cell_type": "code",
   "execution_count": 35,
   "metadata": {
    "collapsed": true,
    "deletable": true,
    "editable": true
   },
   "outputs": [],
   "source": [
    "def find_classes(dir):\n",
    "    # Classes are subdirectories of the root directory\n",
    "    classes = [d for d in os.listdir(dir) if os.path.isdir(os.path.join(dir, d))]\n",
    "    classes.sort()\n",
    "    class_to_idx = {classes[i]: i for i in range(len(classes))}\n",
    "    return classes, class_to_idx\n",
    "\n",
    "def getCoords(tile_list): \n",
    "    \n",
    "    '''\n",
    "    Given a list of tiles, with format: \n",
    "    [test, valid, train]_NAME_x_y.jpeg\n",
    "    Returns a two list of same size with xcoords and y coords    \n",
    "    '''\n",
    "    \n",
    "    xcoords = [re.split(\"_\", i)[-2] for i in tile_list]\n",
    "    xcoords = list(map(int, xcoords))\n",
    "    ycoords = [re.split(\"_\", i)[-1] for i in tile_list]\n",
    "    ycoords = [re.sub(\".jpeg\", \"\", i) for i in ycoords]\n",
    "    ycoords = list(map(int, ycoords))\n",
    "    \n",
    "    return xcoords, ycoords\n",
    "\n",
    "def fileCleaner(tile_list): \n",
    "    \n",
    "    '''\n",
    "    Given a list of tiles, remove coords (\"_X_Y_\") and \".jpeg\" termination\n",
    "    '''\n",
    "    \n",
    "    tile_list = [re.sub(\"_[0-9]*_[0-9]*.jpeg\", \"\", x) for x in tile_list]\n",
    "    \n",
    "    return (tile_list)\n",
    "\n",
    "def get2Darray(xcoords, ycoords, tiles_input): \n",
    "    \n",
    "    '''\n",
    "    Given a list of xcoords, ycoords and files, returns a 2D array where each file\n",
    "       correspond to the pair of coords\n",
    "    '''\n",
    "    \n",
    "    xmax = max(xcoords) + 1\n",
    "    ymax = max(ycoords) + 1\n",
    "    tiles_output = np.empty((ymax, xmax), dtype=np.dtype((str, 100)))\n",
    "    for i in range(0,len(xcoords)): \n",
    "        tiles_output[ycoords[i], xcoords[i]] = tiles_input[i]\n",
    "        \n",
    "    return tiles_output\n",
    "\n",
    "def fastdump(obj, file):\n",
    "    p = pickle.Pickler(file)\n",
    "    p.fast = True\n",
    "    p.dump(obj)\n",
    "\n"
   ]
  },
  {
   "cell_type": "code",
   "execution_count": 36,
   "metadata": {
    "collapsed": false,
    "deletable": true,
    "editable": true
   },
   "outputs": [
    {
     "name": "stdout",
     "output_type": "stream",
     "text": [
      "{'T3': 2, 'T1': 0, 'T2': 1}\n",
      "['T1', 'T2', 'T3']\n"
     ]
    }
   ],
   "source": [
    "classes, class_to_idx = find_classes(root_dir)\n",
    "print(class_to_idx)\n",
    "\n",
    "tile_files = {}\n",
    "original_files = {}\n",
    "main_dict = {}\n",
    "\n",
    "print(classes)"
   ]
  },
  {
   "cell_type": "code",
   "execution_count": 5,
   "metadata": {
    "collapsed": false,
    "deletable": true,
    "editable": true
   },
   "outputs": [],
   "source": [
    "for c in classes:\n",
    "    tile_files[c] = os.listdir(root_dir + c)\n",
    "    original_files[c] = fileCleaner(tile_files[c])\n",
    "    \n",
    "    for file in set(original_files[c]): \n",
    "            index_list = [i for i, x in enumerate(original_files[c]) if x==file]\n",
    "            tiles = [tile_files[c][i] for i in index_list]\n",
    "            xs, ys = getCoords(tiles)\n",
    "            tiles_array = get2Darray(xs, ys, tiles)\n",
    "            loop_dict = {file:[tiles_array, class_to_idx[c]]}\n",
    "   \n"
   ]
  },
  {
   "cell_type": "code",
   "execution_count": 31,
   "metadata": {
    "collapsed": false,
    "deletable": true,
    "editable": true
   },
   "outputs": [
    {
     "data": {
      "text/plain": [
       "{'test_NORMAL': [array([['', '', '', ..., '', '', ''],\n",
       "         ['', '', '', ..., '', '', ''],\n",
       "         ['', '', '', ..., '', '', ''],\n",
       "         ..., \n",
       "         ['', '', '', ..., '', '', 'test_NORMAL_72_31.jpeg'],\n",
       "         ['', '', '', ..., '', '', 'test_NORMAL_72_32.jpeg'],\n",
       "         ['', '', '', ..., '', '', 'test_NORMAL_72_33.jpeg']],\n",
       "        dtype='<U100'), 2]}"
      ]
     },
     "execution_count": 31,
     "metadata": {},
     "output_type": "execute_result"
    }
   ],
   "source": [
    "loop_dict "
   ]
  },
  {
   "cell_type": "code",
   "execution_count": 7,
   "metadata": {
    "collapsed": false,
    "deletable": true,
    "editable": true
   },
   "outputs": [
    {
     "data": {
      "text/plain": [
       "array([['', '', '', ..., '', '', ''],\n",
       "       ['', '', '', ..., '', '', ''],\n",
       "       ['', '', '', ..., '', '', ''],\n",
       "       ..., \n",
       "       ['', '', '', ..., '', '', 'test_NORMAL_72_31.jpeg'],\n",
       "       ['', '', '', ..., '', '', 'test_NORMAL_72_32.jpeg'],\n",
       "       ['', '', '', ..., '', '', 'test_NORMAL_72_33.jpeg']],\n",
       "      dtype='<U100')"
      ]
     },
     "execution_count": 7,
     "metadata": {},
     "output_type": "execute_result"
    }
   ],
   "source": [
    "tiles_array"
   ]
  },
  {
   "cell_type": "code",
   "execution_count": null,
   "metadata": {
    "collapsed": true,
    "deletable": true,
    "editable": true
   },
   "outputs": [],
   "source": []
  },
  {
   "cell_type": "code",
   "execution_count": null,
   "metadata": {
    "collapsed": true,
    "deletable": true,
    "editable": true
   },
   "outputs": [],
   "source": []
  },
  {
   "cell_type": "code",
   "execution_count": null,
   "metadata": {
    "collapsed": true,
    "deletable": true,
    "editable": true
   },
   "outputs": [],
   "source": []
  },
  {
   "cell_type": "code",
   "execution_count": null,
   "metadata": {
    "collapsed": true,
    "deletable": true,
    "editable": true
   },
   "outputs": [],
   "source": []
  },
  {
   "cell_type": "code",
   "execution_count": null,
   "metadata": {
    "collapsed": true,
    "deletable": true,
    "editable": true
   },
   "outputs": [],
   "source": []
  },
  {
   "cell_type": "code",
   "execution_count": 16,
   "metadata": {
    "collapsed": false,
    "deletable": true,
    "editable": true
   },
   "outputs": [
    {
     "ename": "NameError",
     "evalue": "name 'transforms' is not defined",
     "output_type": "error",
     "traceback": [
      "\u001b[0;31m---------------------------------------------------------------------------\u001b[0m",
      "\u001b[0;31mNameError\u001b[0m                                 Traceback (most recent call last)",
      "\u001b[0;32m<ipython-input-16-3c3aa0c02d2c>\u001b[0m in \u001b[0;36m<module>\u001b[0;34m()\u001b[0m\n\u001b[1;32m      4\u001b[0m \u001b[0mimgSize\u001b[0m \u001b[0;34m=\u001b[0m \u001b[0;36m299\u001b[0m\u001b[0;34m\u001b[0m\u001b[0m\n\u001b[1;32m      5\u001b[0m \u001b[0;34m\u001b[0m\u001b[0m\n\u001b[0;32m----> 6\u001b[0;31m transform = transforms.Compose([new_transforms.Resize((imgSize,imgSize)),\n\u001b[0m\u001b[1;32m      7\u001b[0m                                 \u001b[0mtransforms\u001b[0m\u001b[0;34m.\u001b[0m\u001b[0mToTensor\u001b[0m\u001b[0;34m(\u001b[0m\u001b[0;34m)\u001b[0m\u001b[0;34m,\u001b[0m\u001b[0;34m\u001b[0m\u001b[0m\n\u001b[1;32m      8\u001b[0m                                 transforms.Normalize((0.5, 0.5, 0.5), (0.5, 0.5, 0.5))])\n",
      "\u001b[0;31mNameError\u001b[0m: name 'transforms' is not defined"
     ]
    }
   ],
   "source": [
    "root_dir = \"/beegfs/sb3923/DeepCancer/alldata/AlldataTilesSorted/\"\n",
    "num_classes = 9\n",
    "tile_dict_path = '/beegfs/sb3923/DeepCancer/alldata/Alldata_FileMappingDict.p'\n",
    "imgSize = 299\n",
    "\n",
    "transform = transforms.Compose([new_transforms.Resize((imgSize,imgSize)),\n",
    "                                transforms.ToTensor(),\n",
    "                                transforms.Normalize((0.5, 0.5, 0.5), (0.5, 0.5, 0.5))])\n"
   ]
  },
  {
   "cell_type": "code",
   "execution_count": 176,
   "metadata": {
    "collapsed": false,
    "deletable": true,
    "editable": true
   },
   "outputs": [
    {
     "name": "stdout",
     "output_type": "stream",
     "text": [
      "Loading from: ST_Normal_Kidney\n"
     ]
    },
    {
     "ename": "KeyboardInterrupt",
     "evalue": "",
     "output_type": "error",
     "traceback": [
      "\u001b[0;31m---------------------------------------------------------------------------\u001b[0m",
      "\u001b[0;31mKeyboardInterrupt\u001b[0m                         Traceback (most recent call last)",
      "\u001b[0;32m<ipython-input-176-a76e6f4d7962>\u001b[0m in \u001b[0;36m<module>\u001b[0;34m()\u001b[0m\n\u001b[1;32m      1\u001b[0m \u001b[0;31m#if want to rerun things\u001b[0m\u001b[0;34m\u001b[0m\u001b[0;34m\u001b[0m\u001b[0m\n\u001b[0;32m----> 2\u001b[0;31m \u001b[0mtest_data\u001b[0m \u001b[0;34m=\u001b[0m \u001b[0mTissueData2\u001b[0m\u001b[0;34m(\u001b[0m\u001b[0mroot_dir\u001b[0m\u001b[0;34m,\u001b[0m \u001b[0;34m'test'\u001b[0m\u001b[0;34m,\u001b[0m \u001b[0mtransform\u001b[0m \u001b[0;34m=\u001b[0m \u001b[0mtransform\u001b[0m\u001b[0;34m,\u001b[0m \u001b[0mmetadata\u001b[0m\u001b[0;34m=\u001b[0m\u001b[0;32mFalse\u001b[0m\u001b[0;34m)\u001b[0m\u001b[0;34m\u001b[0m\u001b[0m\n\u001b[0m\u001b[1;32m      3\u001b[0m \u001b[0mclasses\u001b[0m \u001b[0;34m=\u001b[0m \u001b[0mtest_data\u001b[0m\u001b[0;34m.\u001b[0m\u001b[0mclasses\u001b[0m\u001b[0;34m\u001b[0m\u001b[0m\n\u001b[1;32m      4\u001b[0m \u001b[0mprint\u001b[0m\u001b[0;34m(\u001b[0m\u001b[0mclasses\u001b[0m\u001b[0;34m)\u001b[0m\u001b[0;34m\u001b[0m\u001b[0m\n\u001b[1;32m      5\u001b[0m \u001b[0;34m\u001b[0m\u001b[0m\n",
      "\u001b[0;32m/scratch/jmw784/capstone/deep-cancer/utils/dataloader_all.py\u001b[0m in \u001b[0;36m__init__\u001b[0;34m(self, root, dset_type, data, transform, metadata)\u001b[0m\n\u001b[1;32m    156\u001b[0m         \u001b[0mself\u001b[0m\u001b[0;34m.\u001b[0m\u001b[0mclass_to_idx\u001b[0m \u001b[0;34m=\u001b[0m \u001b[0mclass_to_idx\u001b[0m\u001b[0;34m\u001b[0m\u001b[0m\n\u001b[1;32m    157\u001b[0m         \u001b[0mself\u001b[0m\u001b[0;34m.\u001b[0m\u001b[0mmetadata\u001b[0m \u001b[0;34m=\u001b[0m \u001b[0mmetadata\u001b[0m\u001b[0;34m\u001b[0m\u001b[0m\n\u001b[0;32m--> 158\u001b[0;31m         \u001b[0mself\u001b[0m\u001b[0;34m.\u001b[0m\u001b[0mdatapoints\u001b[0m\u001b[0;34m,\u001b[0m \u001b[0mself\u001b[0m\u001b[0;34m.\u001b[0m\u001b[0mfilenames\u001b[0m \u001b[0;34m=\u001b[0m \u001b[0mself\u001b[0m\u001b[0;34m.\u001b[0m\u001b[0mmake_dataset\u001b[0m\u001b[0;34m(\u001b[0m\u001b[0mroot\u001b[0m\u001b[0;34m,\u001b[0m \u001b[0mdset_type\u001b[0m\u001b[0;34m,\u001b[0m \u001b[0mclass_to_idx\u001b[0m\u001b[0;34m)\u001b[0m\u001b[0;34m\u001b[0m\u001b[0m\n\u001b[0m\u001b[1;32m    159\u001b[0m         \u001b[0mself\u001b[0m\u001b[0;34m.\u001b[0m\u001b[0mtransform\u001b[0m \u001b[0;34m=\u001b[0m \u001b[0mtransform\u001b[0m\u001b[0;34m\u001b[0m\u001b[0m\n\u001b[1;32m    160\u001b[0m \u001b[0;34m\u001b[0m\u001b[0m\n",
      "\u001b[0;32m/scratch/jmw784/capstone/deep-cancer/utils/dataloader_all.py\u001b[0m in \u001b[0;36mmake_dataset\u001b[0;34m(self, dir, dset_type, class_to_idx)\u001b[0m\n\u001b[1;32m    186\u001b[0m             \u001b[0;31m#del dd\u001b[0m\u001b[0;34m\u001b[0m\u001b[0;34m\u001b[0m\u001b[0m\n\u001b[1;32m    187\u001b[0m             \u001b[0mdd\u001b[0m \u001b[0;34m=\u001b[0m \u001b[0;34m[\u001b[0m\u001b[0;34m]\u001b[0m\u001b[0;34m\u001b[0m\u001b[0m\n\u001b[0;32m--> 188\u001b[0;31m             \u001b[0;32mfor\u001b[0m \u001b[0mroot\u001b[0m\u001b[0;34m,\u001b[0m \u001b[0m_\u001b[0m\u001b[0;34m,\u001b[0m \u001b[0mfnames\u001b[0m \u001b[0;32min\u001b[0m \u001b[0mos\u001b[0m\u001b[0;34m.\u001b[0m\u001b[0mwalk\u001b[0m\u001b[0;34m(\u001b[0m\u001b[0md\u001b[0m\u001b[0;34m)\u001b[0m\u001b[0;34m:\u001b[0m\u001b[0;34m\u001b[0m\u001b[0m\n\u001b[0m\u001b[1;32m    189\u001b[0m                 \u001b[0;32mfor\u001b[0m \u001b[0mfname\u001b[0m \u001b[0;32min\u001b[0m \u001b[0mfnames\u001b[0m\u001b[0;34m:\u001b[0m\u001b[0;31m#[::10]:#[:400]:#fnames[::1000]:\u001b[0m\u001b[0;34m\u001b[0m\u001b[0m\n\u001b[1;32m    190\u001b[0m                     \u001b[0;31m# Parse the filename\u001b[0m\u001b[0;34m\u001b[0m\u001b[0;34m\u001b[0m\u001b[0m\n",
      "\u001b[0;32m/share/apps/python3/3.5.3/intel/lib/python3.5/os.py\u001b[0m in \u001b[0;36mwalk\u001b[0;34m(top, topdown, onerror, followlinks)\u001b[0m\n\u001b[1;32m    378\u001b[0m     \u001b[0;32mfor\u001b[0m \u001b[0mentry\u001b[0m \u001b[0;32min\u001b[0m \u001b[0mentries\u001b[0m\u001b[0;34m:\u001b[0m\u001b[0;34m\u001b[0m\u001b[0m\n\u001b[1;32m    379\u001b[0m         \u001b[0;32mtry\u001b[0m\u001b[0;34m:\u001b[0m\u001b[0;34m\u001b[0m\u001b[0m\n\u001b[0;32m--> 380\u001b[0;31m             \u001b[0mis_dir\u001b[0m \u001b[0;34m=\u001b[0m \u001b[0mentry\u001b[0m\u001b[0;34m.\u001b[0m\u001b[0mis_dir\u001b[0m\u001b[0;34m(\u001b[0m\u001b[0;34m)\u001b[0m\u001b[0;34m\u001b[0m\u001b[0m\n\u001b[0m\u001b[1;32m    381\u001b[0m         \u001b[0;32mexcept\u001b[0m \u001b[0mOSError\u001b[0m\u001b[0;34m:\u001b[0m\u001b[0;34m\u001b[0m\u001b[0m\n\u001b[1;32m    382\u001b[0m             \u001b[0;31m# If is_dir() raises an OSError, consider that the entry is not\u001b[0m\u001b[0;34m\u001b[0m\u001b[0;34m\u001b[0m\u001b[0m\n",
      "\u001b[0;31mKeyboardInterrupt\u001b[0m: "
     ]
    }
   ],
   "source": [
    "#if want to rerun things\n",
    "test_data = TissueData2(root_dir, 'test', transform = transform, metadata=False)\n",
    "classes = test_data.classes\n",
    "print(classes)\n",
    "\n",
    "os.chdir('/scratch/jmw784/capstone/deep-cancer')\n",
    "import pickle\n",
    "pickle.dump( test_data, open( \"test_data.p\", \"wb\" ) )\n",
    "pickle.dump( classes, open( \"classes.p\", \"wb\" ) )"
   ]
  },
  {
   "cell_type": "code",
   "execution_count": 15,
   "metadata": {
    "collapsed": false,
    "deletable": true,
    "editable": true
   },
   "outputs": [],
   "source": [
    "os.chdir('/scratch/jmw784/capstone/deep-cancer')\n",
    "import pickle\n",
    "test_data = pickle.load( open( \"test_data.p\", \"rb\" ))\n",
    "classes = pickle.load( open( \"classes.p\", \"rb\" ))\n"
   ]
  },
  {
   "cell_type": "code",
   "execution_count": 17,
   "metadata": {
    "collapsed": true,
    "deletable": true,
    "editable": true
   },
   "outputs": [],
   "source": [
    "c = pickle.load( open( \"classes.p\", \"rb\" ))"
   ]
  },
  {
   "cell_type": "code",
   "execution_count": 24,
   "metadata": {
    "collapsed": false,
    "deletable": true,
    "editable": true
   },
   "outputs": [],
   "source": [
    "#test_loader = torch.utils.data.DataLoader(test_data, batch_size=32, shuffle=False)"
   ]
  },
  {
   "cell_type": "code",
   "execution_count": 26,
   "metadata": {
    "collapsed": false,
    "deletable": true,
    "editable": true
   },
   "outputs": [],
   "source": [
    "#with open(tile_dict_path, 'rb') as f:\n",
    "#    tile_dict = pickle.load(f)"
   ]
  },
  {
   "cell_type": "code",
   "execution_count": 27,
   "metadata": {
    "collapsed": true,
    "deletable": true,
    "editable": true
   },
   "outputs": [],
   "source": [
    "def get_tile_probability(tile_path):\n",
    "    # Some tiles are empty with no path, return nan\n",
    "    if tile_path == '':\n",
    "        return np.full(num_classes, np.nan)\n",
    "    \n",
    "    tile_path = root_dir + tile_path\n",
    " \n",
    "    with open(tile_path, 'rb') as f:\n",
    "        with Image.open(f) as img:\n",
    "            img = img.convert('RGB')\n",
    "            \n",
    "    img = transform(img).unsqueeze(0)\n",
    "    \n",
    "    # Turn output into probabilities with softmax\n",
    "    var_img = Variable(img, volatile=True).cuda()\n",
    "    output = F.softmax(model(var_img)[0]).data.squeeze(0)\n",
    "    output = output.cpu()\n",
    "    \n",
    "    #viz = (model(var_img)[1]).squeeze(0)#torch.FloatTensor of size 1x5184\n",
    "    #viz = viz.cpu()\n",
    "    #print(output.numpy())\n",
    "    return output.numpy()#, viz.data.numpy()\n",
    "    "
   ]
  },
  {
   "cell_type": "code",
   "execution_count": 28,
   "metadata": {
    "collapsed": true,
    "deletable": true,
    "editable": true
   },
   "outputs": [],
   "source": [
    "def get_tile_probability2(tile_path):\n",
    "    # Some tiles are empty with no path, return nan\n",
    "    if tile_path == '':\n",
    "        return np.full(5184, np.nan)\n",
    "    \n",
    "    tile_path = root_dir + tile_path\n",
    "    #print(tile_path)\n",
    " \n",
    "    with open(tile_path, 'rb') as f:\n",
    "        with Image.open(f) as img:\n",
    "            img = img.convert('RGB')\n",
    "            \n",
    "    img = transform(img).unsqueeze(0)\n",
    "    \n",
    "    # Turn output into probabilities with softmax\n",
    "    var_img = Variable(img, volatile=True).cuda()\n",
    "    viz = (model(var_img)[1]).squeeze(0)#torch.FloatTensor of size 1x5184\n",
    "    viz = viz.cpu()\n",
    "    #print(viz.data.numpy())\n",
    "    return viz.data.numpy() #numpy.ndarray"
   ]
  },
  {
   "cell_type": "code",
   "execution_count": 29,
   "metadata": {
    "collapsed": false,
    "deletable": true,
    "editable": true
   },
   "outputs": [
    {
     "ename": "KeyError",
     "evalue": "'test_TCGA-KL-8329-11A-01-TS1.55cef38f-9e3a-47aa-af40-e2b889a8e4a1'",
     "output_type": "error",
     "traceback": [
      "\u001b[0;31m---------------------------------------------------------------------------\u001b[0m",
      "\u001b[0;31mKeyError\u001b[0m                                  Traceback (most recent call last)",
      "\u001b[0;32m<ipython-input-29-d6d42bbb7cb3>\u001b[0m in \u001b[0;36m<module>\u001b[0;34m()\u001b[0m\n\u001b[1;32m      2\u001b[0m \u001b[0;34m\u001b[0m\u001b[0m\n\u001b[1;32m      3\u001b[0m \u001b[0;32mfor\u001b[0m \u001b[0mfile\u001b[0m \u001b[0;32min\u001b[0m \u001b[0mfile_list\u001b[0m\u001b[0;34m:\u001b[0m\u001b[0;34m\u001b[0m\u001b[0m\n\u001b[0;32m----> 4\u001b[0;31m         \u001b[0mtile_paths\u001b[0m\u001b[0;34m,\u001b[0m \u001b[0mlabel\u001b[0m \u001b[0;34m=\u001b[0m \u001b[0mtile_dict\u001b[0m\u001b[0;34m[\u001b[0m\u001b[0mfile\u001b[0m\u001b[0;34m]\u001b[0m\u001b[0;34m\u001b[0m\u001b[0m\n\u001b[0m\u001b[1;32m      5\u001b[0m         \u001b[0;31m#print(tile_paths)\u001b[0m\u001b[0;34m\u001b[0m\u001b[0;34m\u001b[0m\u001b[0m\n\u001b[1;32m      6\u001b[0m \u001b[0;34m\u001b[0m\u001b[0m\n",
      "\u001b[0;31mKeyError\u001b[0m: 'test_TCGA-KL-8329-11A-01-TS1.55cef38f-9e3a-47aa-af40-e2b889a8e4a1'"
     ]
    }
   ],
   "source": [
    "file_list = test_data.filenames\n",
    "\n",
    "for file in file_list:\n",
    "        tile_paths, label = tile_dict[file]\n",
    "        #print(tile_paths)\n",
    "        \n",
    "        \n",
    "folder = classes[label]\n",
    "\n",
    "def add_folder(tile_path):\n",
    "    if tile_path == '':\n",
    "        return ''\n",
    "    else:\n",
    "        return folder + '/' + tile_path\n",
    "        \n",
    "    \n",
    "    \n",
    "add_folder_v = np.vectorize(add_folder)\n",
    "tile_paths = add_folder_v(tile_paths)\n",
    "\n",
    "\n",
    "m=(tile_paths[6])\n",
    "print(m)\n",
    "\n",
    "\n",
    "prob_v2 = np.vectorize(get_tile_probability2, otypes=[np.ndarray])\n",
    "lastlayer = prob_v2(m)\n",
    "       \n",
    "print(lastlayer)"
   ]
  },
  {
   "cell_type": "code",
   "execution_count": 32,
   "metadata": {
    "collapsed": false,
    "deletable": true,
    "editable": true
   },
   "outputs": [
    {
     "data": {
      "text/plain": [
       "['test_TCGA-KL-8329-11A-01-TS1.55cef38f-9e3a-47aa-af40-e2b889a8e4a1',\n",
       " 'test_TCGA-BP-4162-11A-01-TS1.a625779e-8a95-436f-a9a5-bd95e73211d9',\n",
       " 'test_TCGA-UW-A7GN-11Z-00-DX1.ABAA5DC6-D63C-4BBF-AB0C-213B95C79720',\n",
       " 'test_TCGA-CZ-5460-11A-01-TS1.baccf72f-058d-41bb-8517-5a10483fd4da',\n",
       " 'test_TCGA-KN-8426-11A-01-TS1.15bd5f79-a766-4bbd-b1c9-7fc9bcae121b',\n",
       " 'test_TCGA-KO-8410-11A-01-TS1.37cb6597-c082-4174-8d77-97afb473d345',\n",
       " 'test_TCGA-CJ-5682-11A-01-TS1.a1f1d495-68b5-477e-aee2-56f77b891e60',\n",
       " 'test_TCGA-BP-5169-11A-01-TS1.a81527fa-b410-47fc-9086-11916d74dfac',\n",
       " 'test_TCGA-KL-8334-11A-01-TS1.61a3e199-8e61-4941-b908-8ccd0ecfba0c',\n",
       " 'test_TCGA-BQ-7044-11A-01-TS1.88058788-1360-478c-8039-99c733d08345',\n",
       " 'test_TCGA-BP-4346-11A-01-TS1.f09ecda2-cab1-4f2b-a616-26f9ce4fd479',\n",
       " 'test_TCGA-BP-4337-11A-01-TS1.1e7ce1da-d1f3-4df1-ad44-a84354fcd5e6',\n",
       " 'test_TCGA-KL-8330-11A-01-TS1.c98209ca-656f-4873-ad6e-887374fa0034',\n",
       " 'test_TCGA-BQ-7053-11A-01-TS1.dbd6f544-85aa-4da3-b9bb-519843ba42d2',\n",
       " 'test_TCGA-CW-6097-11A-01-TS1.f8f08546-2d27-4729-9f23-f5891c65fdec',\n",
       " 'test_TCGA-BP-4968-11A-01-TS1.60923aa1-6754-4d59-a4f2-f281ed6f6726',\n",
       " 'test_TCGA-BP-4983-11A-01-TS1.5a855fdc-0d9a-4e95-a941-12e6a5f5e20c',\n",
       " 'test_TCGA-BP-4971-11A-01-TS1.7bfed6f7-2a91-428e-a6db-4426287f1712',\n",
       " 'test_TCGA-KL-8344-11A-01-TS1.c520cd69-8520-49c7-a52d-b7141abe27d6',\n",
       " 'test_TCGA-B0-4849-11A-01-TS1.31722287-794e-4c84-84b6-874fb4fdfe1b',\n",
       " 'test_TCGA-B0-5709-11A-01-TS1.aff85b06-0b91-4463-88e6-2a5b3747761d',\n",
       " 'test_TCGA-A4-A5Y1-11A-01-TS1.915BA553-B428-404A-9F2E-5FC368C0D88E',\n",
       " 'test_TCGA-B0-5701-11A-01-TS1.5130813e-7128-4098-9126-51a2239fed4a',\n",
       " 'test_TCGA-B0-4837-11A-01-BS1.96947177-0964-46cf-bda8-5d03f9130a99',\n",
       " 'test_TCGA-BP-5198-11A-01-TS1.ca2dcf67-bdeb-4ecc-9d5b-516e2deadfa6',\n",
       " 'test_TCGA-B0-5081-11A-01-TS1.51625bbe-cd09-4240-829c-e310152531e2',\n",
       " 'test_TCGA-CJ-4637-11A-01-BS1.3ef28628-733f-474c-a39c-a37b537c2a17',\n",
       " 'test_TCGA-B0-5692-11A-01-TS1.510061fa-aa8c-415b-bf06-97539f9ac7f8',\n",
       " 'test_TCGA-CJ-4637-11A-01-TS1.bf296f39-a462-4546-b40b-f21986333be1',\n",
       " 'test_TCGA-CJ-4923-11A-01-TS1.16f5c3b2-839c-4ba0-b450-9cf963c933aa',\n",
       " 'test_TCGA-BQ-5888-11A-01-TS1.ed6b3f18-6449-41ca-93b7-01fb16118464',\n",
       " 'test_TCGA-B8-5549-11A-01-TS1.c5574643-1e62-4d6e-ade2-09cbca47c073',\n",
       " 'test_TCGA-B0-5712-11A-01-TS1.e869e9b7-17e2-4753-9556-a036affa9730',\n",
       " 'test_TCGA-BQ-7049-11A-01-TS1.77a95190-22b7-49dc-916d-7d272fe3739d',\n",
       " 'test_TCGA-BP-4770-11A-01-TS1.c19a33a7-91f0-4ceb-8e80-dff4ccb3f538',\n",
       " 'test_TCGA-BP-4969-11A-01-TS1.c1c429b7-7769-48b5-b3fd-3dce5aa4c19a',\n",
       " 'test_TCGA-CJ-5686-11A-01-TS1.8385ff07-8b1e-46e2-803d-2eb8940df93c',\n",
       " 'test_TCGA-BQ-5893-11A-01-TS1.3cf8daea-9739-4557-b85e-a1e1d74cd4e5',\n",
       " 'test_TCGA-KN-8424-11A-01-TS1.a9d5cfa2-c0e6-4d3b-836b-ff9aed45b000',\n",
       " 'test_TCGA-CJ-4868-11A-01-TS1.7b703e52-d080-42ac-a72b-07328c6a1c9c',\n",
       " 'test_TCGA-CJ-4894-11A-01-TS1.f6cf26ac-1384-45ab-87f7-8d0a814e88c1',\n",
       " 'test_TCGA-BP-4961-11A-01-TS1.ff4b1d00-e237-45d4-9ed2-56ccc78aeeec',\n",
       " 'test_TCGA-KO-8404-11A-01-TS1.9fc3ad2d-c154-4fb6-9219-3e524e5b2386',\n",
       " 'test_TCGA-B0-5084-11A-01-TS1.b9fe1ffd-fd04-4b0d-a16c-6746d4a8a536',\n",
       " 'test_TCGA-B3-4103-01A-02-BS2.0921c29b-5607-4d46-8cd4-7eccaa74b9b7',\n",
       " 'test_TCGA-BQ-7060-01A-01-TS1.d7281fc8-46e1-49ab-8801-ba015bb4e43c',\n",
       " 'test_TCGA-BQ-7044-01A-01-TS1.c76a15c8-e786-4ea5-afcd-eedbbe3bae2c',\n",
       " 'test_TCGA-BQ-7053-01A-01-TS1.217d7b8c-7cbe-4ecf-9495-fb2f61c8b1d9',\n",
       " 'test_TCGA-2Z-A9JL-01A-01-TS1.8CEFCDA6-CDAB-411D-B5AF-23BB071F48F1',\n",
       " 'test_TCGA-UN-AAZ9-01A-01-TSA.28D1F345-D9FA-4DD9-9916-54C5B64B666A',\n",
       " 'test_TCGA-B3-4103-01A-01-BS1.0b542850-921d-4e0e-9ac3-06e1ce588991',\n",
       " 'test_TCGA-BQ-5893-01A-01-TS1.b5e9f667-b5a7-43c9-8805-d4a26f0e8b82',\n",
       " 'test_TCGA-BQ-7049-01A-01-TS1.04b7ae90-be4f-4800-9b31-5d5b7884dcba',\n",
       " 'test_TCGA-HE-7130-01A-01-TS1.fe970f97-236a-4568-a61b-5ca0e9ad55bc',\n",
       " 'test_TCGA-MH-A55Z-01A-01-TSA.0AB15407-B8D2-49EC-AA70-27F2E4AE42A3',\n",
       " 'test_TCGA-B9-A5W9-01A-01-TS1.162D7CF3-23B2-4C4B-8F5F-0D6295E5CD16',\n",
       " 'test_TCGA-Y8-A8S0-01A-01-TS1.A6F6DA5F-2AEE-44C7-AF54-FED265071001',\n",
       " 'test_TCGA-P4-A5E8-01A-01-TS1.44809942-82ED-4D29-B365-024CCC9D9DCC',\n",
       " 'test_TCGA-HE-7130-01A-01-BS1.2c5e94ae-b862-4aa7-9b80-582ae75a2c54',\n",
       " 'test_TCGA-SX-A7SQ-01A-01-TSA.C22C9653-8305-47EE-8C75-7A6325035BE2',\n",
       " 'test_TCGA-B9-A69E-01A-01-TS1.CA881929-E6AE-48AA-9131-BAA3A240145D',\n",
       " 'test_TCGA-MH-A854-01A-01-TS1.D41D01F5-5F66-4CF6-ABB3-6BDD53C09FC6',\n",
       " 'test_TCGA-BQ-5878-01A-01-BS1.12cfb477-4095-4778-a428-2da0aa4a2755',\n",
       " 'test_TCGA-BQ-5886-01A-01-TS1.2ed30241-45a3-4d5c-be14-f4ef6494c02d',\n",
       " 'test_TCGA-2Z-A9JK-01A-01-TS1.13B13EB1-C0D1-41FF-86C5-80422490E330']"
      ]
     },
     "execution_count": 32,
     "metadata": {},
     "output_type": "execute_result"
    }
   ],
   "source": [
    "file_list"
   ]
  },
  {
   "cell_type": "code",
   "execution_count": 21,
   "metadata": {
    "collapsed": false,
    "deletable": true,
    "editable": true
   },
   "outputs": [],
   "source": [
    "def aggregate(file_list, method):\n",
    "\n",
    "    \"\"\"\n",
    "    Given a list of files, return scores for each class according to the\n",
    "    method and labels for those files.\n",
    "    @param file_list: A list of file paths to do predictions on\n",
    "    @param method: 'average' - returns the average probability score across\n",
    "                               all tiles for that file\n",
    "                   'max' - predicts each tile to be the class of the maximum\n",
    "                           score, and returns the proportion of tiles for\n",
    "                           each class\n",
    "    @return: a ndarray of class probabilities for all files in the list\n",
    "             a ndarray of the labels\n",
    "    \"\"\"\n",
    "\n",
    "    model.eval()\n",
    "    predictions = []\n",
    "    true_labels = []\n",
    "    last_layer = []\n",
    "\n",
    "    for file in file_list:\n",
    "        tile_paths, label = tile_dict[file]\n",
    "\n",
    "        folder = classes[label]\n",
    "\n",
    "        def add_folder(tile_path):\n",
    "            if tile_path == '':\n",
    "                return ''\n",
    "            else:\n",
    "                return folder + '/' + tile_path\n",
    "\n",
    "        # Add the folder for the class name in front\n",
    "        add_folder_v = np.vectorize(add_folder)\n",
    "        tile_paths0 = add_folder_v(tile_paths)\n",
    "        \n",
    "\n",
    "        # Get the probability array for the file\n",
    "        prob_v = np.vectorize(get_tile_probability, otypes=[np.ndarray])\n",
    "        probabilities = prob_v(tile_paths0)\n",
    "        \n",
    "        \n",
    "        tile_paths1 = add_folder_v(tile_paths)\n",
    "        \n",
    "        \n",
    "        #print(probabilities)\n",
    "        #lastlayer = prob_v2(tile_paths)\n",
    "       \n",
    "        #print(probabilities[0])\n",
    "        #print(type(probabilities))\n",
    "        #print(probabilities.shape)\n",
    "        #m=(tile_paths[6])\n",
    "        #print(m)\n",
    "        \n",
    "        prob_v2 = np.vectorize(get_tile_probability2, otypes=[np.ndarray])\n",
    "        lastlayer = prob_v2(tile_paths1)\n",
    "        \n",
    "        #print(lastlayer[0])\n",
    "        #print(type(lastlayer))\n",
    "        #print(lastlayer.shape)\n",
    "\n",
    "\n",
    "        #probabilities\n",
    "        probabilities = np.stack(probabilities.flat)\n",
    "        prediction = np.nanmean(probabilities, axis = 0)\n",
    "        \n",
    "        tile_label = np.argmax(probabilities,axis=1)\n",
    "        \n",
    "        \n",
    "        #last layer\n",
    "        last_layer_weights = np.stack(lastlayer.flat)\n",
    "        \n",
    "        a = last_layer_weights[np.ix_(label == tile_label),:]\n",
    "        #print((np.squeeze(a)).ndim)\n",
    "        \n",
    "        #print(last_layer_weights.shape)\n",
    "        #print(np.array(label == tile_label))\n",
    "        #print(last_layer_weights.shape[np.array(label == tile_label),:])\n",
    "        if (np.squeeze(a)).ndim>1:\n",
    "            lastlayerweights = np.nanmean(np.squeeze(a), axis = 0)\n",
    "            print(lastlayerweights.shape)\n",
    "        \n",
    "            predictions.append(prediction)\n",
    "            true_labels.append(label)\n",
    "            last_layer.append(lastlayerweights)\n",
    "        else:\n",
    "            print('no tile is correctly classified')\n",
    "        \n",
    "    return np.array(predictions), np.array(true_labels), np.array(last_layer)"
   ]
  },
  {
   "cell_type": "code",
   "execution_count": 22,
   "metadata": {
    "collapsed": true,
    "deletable": true,
    "editable": true
   },
   "outputs": [],
   "source": [
    "class BasicConv2d(nn.Module):\n",
    "\n",
    "    def __init__(self, in_channels, out_channels, pool, **kwargs):\n",
    "        super(BasicConv2d, self).__init__()\n",
    "\n",
    "        self.pool = pool\n",
    "        self.conv = nn.Conv2d(in_channels, out_channels, **kwargs)\n",
    "        self.bn = nn.BatchNorm2d(out_channels, eps=0.001)\n",
    "        self.relu = nn.LeakyReLU()\n",
    "        \n",
    "        self.dropout = nn.Dropout(p=0.1)\n",
    "\n",
    "    def forward(self, x):\n",
    "        x = self.conv(x)\n",
    "\n",
    "        if self.pool:\n",
    "            x = F.max_pool2d(x, 2)\n",
    "        \n",
    "        x = self.relu(x)\n",
    "        x = self.bn(x)\n",
    "        x = self.dropout(x)\n",
    "        return x\n",
    "\n",
    "# Define model\n",
    "class cancer_CNN(nn.Module):\n",
    "    def __init__(self, nc, imgSize, ngpu):\n",
    "        super(cancer_CNN, self).__init__()\n",
    "        self.nc = nc\n",
    "        self.imgSize = imgSize\n",
    "        self.ngpu = ngpu\n",
    "        self.data = 'all'\n",
    "        self.conv1 = BasicConv2d(nc, 16, False, kernel_size=5, padding=1, stride=2, bias=True)\n",
    "        self.conv2 = BasicConv2d(16, 32, False, kernel_size=3, bias=True)\n",
    "        self.conv3 = BasicConv2d(32, 64, True, kernel_size=3, padding=1, bias=True)\n",
    "        self.conv4 = BasicConv2d(64, 64, True, kernel_size=3, padding=1, bias=True)\n",
    "        self.conv5 = BasicConv2d(64, 128, True, kernel_size=3, padding=1, bias=True)\n",
    "        self.conv6 = BasicConv2d(128, 64, True, kernel_size=3, padding=1, bias=True)\n",
    "        self.linear = nn.Linear(5184, num_classes)\n",
    "\n",
    "    def forward(self, x):\n",
    "        x = self.conv1(x)\n",
    "        x = self.conv2(x)\n",
    "        x = self.conv3(x)\n",
    "        x = self.conv4(x)\n",
    "        x = self.conv5(x)\n",
    "        x = self.conv6(x)\n",
    "        x = x.view(x.size(0), -1)\n",
    "        llw = x\n",
    "        x = self.linear(x)\n",
    "        return x, llw"
   ]
  },
  {
   "cell_type": "code",
   "execution_count": null,
   "metadata": {
    "collapsed": false,
    "deletable": true,
    "editable": true
   },
   "outputs": [
    {
     "name": "stdout",
     "output_type": "stream",
     "text": [
      "(5184,)\n",
      "(5184,)\n",
      "(5184,)\n",
      "(5184,)\n",
      "(5184,)\n",
      "(5184,)\n",
      "(5184,)\n",
      "(5184,)\n",
      "(5184,)\n",
      "(5184,)\n",
      "(5184,)\n",
      "(5184,)\n",
      "(5184,)\n",
      "(5184,)\n"
     ]
    }
   ],
   "source": [
    "model = cancer_CNN(3, imgSize, 1)\n",
    "model.cuda()\n",
    "model_path = \"/scratch/jmw784/capstone/deep-cancer/experiments/train_all_downsample_2/epoch_17.pth\"\n",
    "state_dict = torch.load(model_path, map_location=lambda storage, loc: storage)\n",
    "model.load_state_dict(state_dict)\n",
    "predictions, labels, lastlayer = aggregate(test_data.filenames, method='average')\n"
   ]
  },
  {
   "cell_type": "code",
   "execution_count": null,
   "metadata": {
    "collapsed": true,
    "deletable": true,
    "editable": true
   },
   "outputs": [],
   "source": []
  }
 ],
 "metadata": {
  "kernelspec": {
   "display_name": "Python 3",
   "language": "python",
   "name": "python3"
  },
  "language_info": {
   "codemirror_mode": {
    "name": "ipython",
    "version": 3
   },
   "file_extension": ".py",
   "mimetype": "text/x-python",
   "name": "python",
   "nbconvert_exporter": "python",
   "pygments_lexer": "ipython3",
   "version": "3.5.3"
  }
 },
 "nbformat": 4,
 "nbformat_minor": 2
}
