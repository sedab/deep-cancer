{
 "cells": [
  {
   "cell_type": "markdown",
   "metadata": {
    "deletable": true,
    "editable": true
   },
   "source": [
    "# test the tiling artifact"
   ]
  },
  {
   "cell_type": "code",
   "execution_count": null,
   "metadata": {
    "collapsed": true,
    "deletable": true,
    "editable": true
   },
   "outputs": [],
   "source": [
    "dir_lungTilesLUAD = \"/beegfs/jmw784/Capstone/LungTilesSorted/TCGA-LUAD/\"\n",
    "#files to test, obtained from viz_sb at iPython Notebooks\n",
    "\n",
    "#test_TCGA-44-6144-01A-01-TS1.0c14abeb-0023-4b75-9f81-3d0cadf37c47_5_16.jpeg \n",
    "folder loc;\n",
    "2f8e1620-558e-4e6d-b9cd-1097468d0e50/TCGA-44-6144-01A-01-TS1.0c14abeb-0023-4b75-9f81-3d0cadf37c47.svs\n",
    "\n",
    "#valid_TCGA-50-5935-01A-01-BS1.b3e47bcb-70a9-4177-86a9-f0dac5aa0a07_19_19.jpeg\n",
    "folder loc;\n",
    "63954190-10f6-4f3a-91b8-c8db5caacd03/TCGA-50-5935-01A-01-BS1.b3e47bcb-70a9-4177-86a9-f0dac5aa0a07.svs\n",
    "\n",
    "#valid_TCGA-49-6743-01A-01-TS1.20d09427-4fbb-462f-b4ff-1e9860d2dbf9_19_15.jpeg\n",
    "folder loc;\n",
    "e01e6ca3-46b5-4a77-8b3d-b646c6ad55ca/TCGA-49-6743-01A-01-TS1.20d09427-4fbb-462f-b4ff-1e9860d2dbf9.svs"
   ]
  },
  {
   "cell_type": "code",
   "execution_count": null,
   "metadata": {
    "collapsed": true
   },
   "outputs": [],
   "source": []
  }
 ],
 "metadata": {
  "kernelspec": {
   "display_name": "Python 3",
   "language": "python",
   "name": "python3"
  },
  "language_info": {
   "codemirror_mode": {
    "name": "ipython",
    "version": 3
   },
   "file_extension": ".py",
   "mimetype": "text/x-python",
   "name": "python",
   "nbconvert_exporter": "python",
   "pygments_lexer": "ipython3",
   "version": "3.5.3"
  }
 },
 "nbformat": 4,
 "nbformat_minor": 2
}
